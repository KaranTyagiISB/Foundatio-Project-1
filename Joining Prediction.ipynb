{
 "cells": [
  {
   "cell_type": "code",
   "execution_count": 1,
   "id": "5bfd0351",
   "metadata": {},
   "outputs": [],
   "source": [
    "import numpy as np\n",
    "import pandas as pd\n",
    "import matplotlib.pyplot as plt\n",
    "import seaborn as sns\n",
    "import scipy.stats as stat\n",
    "from sklearn.model_selection import train_test_split,cross_val_score, GridSearchCV\n",
    "from sklearn.linear_model import LogisticRegression\n",
    "from sklearn.neighbors import KNeighborsClassifier\n",
    "from sklearn.ensemble import RandomForestClassifier, GradientBoostingClassifier\n",
    "from sklearn.metrics import roc_auc_score, precision_score, recall_score, confusion_matrix, classification_report\n",
    "from sklearn.preprocessing import OneHotEncoder, StandardScaler\n",
    "import warnings\n",
    "warnings.filterwarnings('ignore')"
   ]
  },
  {
   "cell_type": "code",
   "execution_count": 2,
   "id": "9545cfd5",
   "metadata": {},
   "outputs": [],
   "source": [
    "df = pd.read_excel('Pred_Data.xlsx')"
   ]
  },
  {
   "cell_type": "code",
   "execution_count": 3,
   "id": "bc87c392",
   "metadata": {},
   "outputs": [
    {
     "data": {
      "text/plain": [
       "(500, 7)"
      ]
     },
     "execution_count": 3,
     "metadata": {},
     "output_type": "execute_result"
    }
   ],
   "source": [
    "df.shape"
   ]
  },
  {
   "cell_type": "code",
   "execution_count": 4,
   "id": "4c6eec8a",
   "metadata": {},
   "outputs": [
    {
     "data": {
      "text/plain": [
       "Degree             0\n",
       "GPA                0\n",
       "Experience         0\n",
       "Job Location       0\n",
       "Salary Hike        0\n",
       "Change in Level    0\n",
       "Joined             0\n",
       "dtype: int64"
      ]
     },
     "execution_count": 4,
     "metadata": {},
     "output_type": "execute_result"
    }
   ],
   "source": [
    "df.isnull().sum()"
   ]
  },
  {
   "cell_type": "code",
   "execution_count": null,
   "id": "14306f80",
   "metadata": {},
   "outputs": [],
   "source": [
    "df.drop_duplicates()"
   ]
  },
  {
   "cell_type": "code",
   "execution_count": 5,
   "id": "c479e4cc",
   "metadata": {},
   "outputs": [
    {
     "name": "stdout",
     "output_type": "stream",
     "text": [
      "<class 'pandas.core.frame.DataFrame'>\n",
      "RangeIndex: 500 entries, 0 to 499\n",
      "Data columns (total 7 columns):\n",
      " #   Column           Non-Null Count  Dtype  \n",
      "---  ------           --------------  -----  \n",
      " 0   Degree           500 non-null    int64  \n",
      " 1   GPA              500 non-null    float64\n",
      " 2   Experience       500 non-null    int64  \n",
      " 3   Job Location     500 non-null    int64  \n",
      " 4   Salary Hike      500 non-null    int64  \n",
      " 5   Change in Level  500 non-null    int64  \n",
      " 6   Joined           500 non-null    int64  \n",
      "dtypes: float64(1), int64(6)\n",
      "memory usage: 27.5 KB\n"
     ]
    }
   ],
   "source": [
    "df.info()"
   ]
  },
  {
   "cell_type": "code",
   "execution_count": 6,
   "id": "4ab767e8",
   "metadata": {},
   "outputs": [],
   "source": [
    "X = df.drop('Joined ',1)\n",
    "y = df[['Joined ']]"
   ]
  },
  {
   "cell_type": "markdown",
   "id": "d2cdf597",
   "metadata": {},
   "source": [
    "### Train Test Split"
   ]
  },
  {
   "cell_type": "code",
   "execution_count": 7,
   "id": "e9c2c39a",
   "metadata": {},
   "outputs": [],
   "source": [
    "xtr,xte,ytr,yte = train_test_split(X,y,test_size=.20,random_state=30)"
   ]
  },
  {
   "cell_type": "markdown",
   "id": "2b544eed",
   "metadata": {},
   "source": [
    "### Data Preprocessing"
   ]
  },
  {
   "cell_type": "code",
   "execution_count": 8,
   "id": "31327568",
   "metadata": {},
   "outputs": [],
   "source": [
    "# X Train"
   ]
  },
  {
   "cell_type": "code",
   "execution_count": 9,
   "id": "04e89d41",
   "metadata": {},
   "outputs": [],
   "source": [
    "ohe = OneHotEncoder(drop = 'first')\n",
    "cat_x = pd.DataFrame(ohe.fit_transform(np.array(xtr[['Degree','Job Location ']])).toarray())\n",
    "cat_x.columns = ['Deg_1','Deg_2','Deg_3','Loc_1','Loc2']"
   ]
  },
  {
   "cell_type": "code",
   "execution_count": 10,
   "id": "7cfc1338",
   "metadata": {},
   "outputs": [],
   "source": [
    "cat_x = cat_x.join((xtr[['Change in Level']].reset_index()).drop('index',1))"
   ]
  },
  {
   "cell_type": "code",
   "execution_count": 11,
   "id": "d4ee71d0",
   "metadata": {},
   "outputs": [],
   "source": [
    "sc = StandardScaler()\n",
    "num_x = pd.DataFrame(sc.fit_transform(xtr[['GPA','Experience','Salary Hike']]))"
   ]
  },
  {
   "cell_type": "code",
   "execution_count": 12,
   "id": "94aeb213",
   "metadata": {},
   "outputs": [],
   "source": [
    "num_x.columns = ['GPA','Experience','Salary Hike']"
   ]
  },
  {
   "cell_type": "code",
   "execution_count": 13,
   "id": "caac5faa",
   "metadata": {},
   "outputs": [],
   "source": [
    "trans_x = num_x.join(cat_x)"
   ]
  },
  {
   "cell_type": "code",
   "execution_count": 14,
   "id": "ed25266a",
   "metadata": {},
   "outputs": [],
   "source": [
    "# X Test"
   ]
  },
  {
   "cell_type": "code",
   "execution_count": 15,
   "id": "ecffee73",
   "metadata": {},
   "outputs": [],
   "source": [
    "te_cat_x = pd.DataFrame(ohe.transform(np.array(xte[['Degree','Job Location ']])).toarray())\n",
    "te_cat_x.columns = ['Deg_1','Deg_2','Deg_3','Loc_1','Loc2']\n",
    "te_cat_x = te_cat_x.join((xte[['Change in Level']].reset_index()).drop('index',1))"
   ]
  },
  {
   "cell_type": "code",
   "execution_count": 16,
   "id": "948f89fc",
   "metadata": {},
   "outputs": [],
   "source": [
    "te_num_x = pd.DataFrame(sc.transform(xte[['GPA','Experience','Salary Hike']]))\n",
    "te_num_x.columns = ['GPA','Experience','Salary Hike']"
   ]
  },
  {
   "cell_type": "code",
   "execution_count": 17,
   "id": "037d194d",
   "metadata": {},
   "outputs": [],
   "source": [
    "te_x = te_num_x.join(te_cat_x)"
   ]
  },
  {
   "cell_type": "markdown",
   "id": "b1522a77",
   "metadata": {},
   "source": [
    "### Applying Classification Models"
   ]
  },
  {
   "cell_type": "code",
   "execution_count": 18,
   "id": "bfa77fca",
   "metadata": {},
   "outputs": [],
   "source": [
    "# Logistic Regression"
   ]
  },
  {
   "cell_type": "code",
   "execution_count": 19,
   "id": "651a18a9",
   "metadata": {},
   "outputs": [],
   "source": [
    "lr = LogisticRegression()\n",
    "cv_lr = cross_val_score(lr,trans_x,ytr,scoring='roc_auc',\n",
    "    cv=5)"
   ]
  },
  {
   "cell_type": "code",
   "execution_count": 20,
   "id": "5d20ce51",
   "metadata": {},
   "outputs": [],
   "source": [
    "bias_lr = np.mean(cv_lr)\n",
    "var_lr = np.std(cv_lr)"
   ]
  },
  {
   "cell_type": "code",
   "execution_count": 21,
   "id": "621f15b2",
   "metadata": {},
   "outputs": [
    {
     "data": {
      "text/plain": [
       "(0.5328947779862414, 0.04093490909877808)"
      ]
     },
     "execution_count": 21,
     "metadata": {},
     "output_type": "execute_result"
    }
   ],
   "source": [
    "bias_lr,var_lr"
   ]
  },
  {
   "cell_type": "code",
   "execution_count": 22,
   "id": "d8f0bb7d",
   "metadata": {},
   "outputs": [],
   "source": [
    "# KNN"
   ]
  },
  {
   "cell_type": "code",
   "execution_count": 23,
   "id": "d786183c",
   "metadata": {},
   "outputs": [],
   "source": [
    "knn = KNeighborsClassifier()\n",
    "cv_knn = cross_val_score(knn,trans_x,ytr,scoring='roc_auc',\n",
    "    cv=5)"
   ]
  },
  {
   "cell_type": "code",
   "execution_count": 24,
   "id": "6ef618e6",
   "metadata": {},
   "outputs": [],
   "source": [
    "bias_knn = np.mean(cv_knn)\n",
    "var_knn = np.std(cv_knn)"
   ]
  },
  {
   "cell_type": "code",
   "execution_count": 25,
   "id": "e32018a5",
   "metadata": {},
   "outputs": [
    {
     "data": {
      "text/plain": [
       "(0.5319089274546591, 0.07580142255948209)"
      ]
     },
     "execution_count": 25,
     "metadata": {},
     "output_type": "execute_result"
    }
   ],
   "source": [
    "bias_knn,var_knn"
   ]
  },
  {
   "cell_type": "code",
   "execution_count": 26,
   "id": "5257a426",
   "metadata": {},
   "outputs": [],
   "source": [
    "# Random Forest"
   ]
  },
  {
   "cell_type": "code",
   "execution_count": 27,
   "id": "517758a7",
   "metadata": {},
   "outputs": [],
   "source": [
    "rf = RandomForestClassifier(random_state = 30)\n",
    "cv_rf = cross_val_score(rf,trans_x,ytr,scoring='roc_auc',\n",
    "    cv=5)"
   ]
  },
  {
   "cell_type": "code",
   "execution_count": 28,
   "id": "a84ee4a0",
   "metadata": {},
   "outputs": [],
   "source": [
    "bias_rf = np.mean(cv_rf)\n",
    "var_rf = np.std(cv_rf)"
   ]
  },
  {
   "cell_type": "code",
   "execution_count": 29,
   "id": "dca7160d",
   "metadata": {},
   "outputs": [
    {
     "data": {
      "text/plain": [
       "(0.57116647123202, 0.04873269758201851)"
      ]
     },
     "execution_count": 29,
     "metadata": {},
     "output_type": "execute_result"
    }
   ],
   "source": [
    "bias_rf, var_rf"
   ]
  },
  {
   "cell_type": "code",
   "execution_count": 30,
   "id": "29b221d3",
   "metadata": {},
   "outputs": [],
   "source": [
    "# Gradient Boosting"
   ]
  },
  {
   "cell_type": "code",
   "execution_count": 31,
   "id": "96284067",
   "metadata": {},
   "outputs": [],
   "source": [
    "gb = GradientBoostingClassifier(random_state = 30)\n",
    "cv_gb = cross_val_score(gb,trans_x,ytr,scoring='roc_auc',\n",
    "    cv=5)"
   ]
  },
  {
   "cell_type": "code",
   "execution_count": 32,
   "id": "65980319",
   "metadata": {},
   "outputs": [],
   "source": [
    "bias_gb = np.mean(cv_gb)\n",
    "var_gb = np.std(cv_gb)"
   ]
  },
  {
   "cell_type": "code",
   "execution_count": 33,
   "id": "331ba286",
   "metadata": {},
   "outputs": [
    {
     "data": {
      "text/plain": [
       "(0.5178787523452157, 0.05254498044455308)"
      ]
     },
     "execution_count": 33,
     "metadata": {},
     "output_type": "execute_result"
    }
   ],
   "source": [
    "bias_gb, var_gb"
   ]
  },
  {
   "cell_type": "code",
   "execution_count": 34,
   "id": "71535f61",
   "metadata": {},
   "outputs": [],
   "source": [
    "# Tuned Random Forest using GridSearch"
   ]
  },
  {
   "cell_type": "code",
   "execution_count": 35,
   "id": "a41ba70a",
   "metadata": {},
   "outputs": [
    {
     "data": {
      "text/plain": [
       "GridSearchCV(estimator=RandomForestClassifier(random_state=30),\n",
       "             param_grid={'criterion': ['entropy', 'gini'],\n",
       "                         'max_depth': array([ 1,  2,  3,  4,  5,  6,  7,  8,  9, 10, 11, 12, 13, 14, 15, 16, 17,\n",
       "       18, 19, 20, 21, 22, 23, 24, 25, 26, 27, 28, 29, 30, 31, 32, 33, 34,\n",
       "       35, 36, 37, 38, 39, 40, 41, 42, 43, 44, 45, 46, 47, 48, 49])},\n",
       "             scoring='roc_auc')"
      ]
     },
     "execution_count": 35,
     "metadata": {},
     "output_type": "execute_result"
    }
   ],
   "source": [
    "params = { 'criterion':['entropy','gini'],'max_depth':np.arange(1,50)}\n",
    "gv_rf = GridSearchCV(rf,param_grid=params, scoring='roc_auc')\n",
    "gv_rf.fit(trans_x,ytr)"
   ]
  },
  {
   "cell_type": "code",
   "execution_count": 36,
   "id": "ff4e4c51",
   "metadata": {},
   "outputs": [
    {
     "data": {
      "text/plain": [
       "{'criterion': 'entropy', 'max_depth': 12}"
      ]
     },
     "execution_count": 36,
     "metadata": {},
     "output_type": "execute_result"
    }
   ],
   "source": [
    "gv_rf.best_params_"
   ]
  },
  {
   "cell_type": "code",
   "execution_count": 37,
   "id": "d2b1e53e",
   "metadata": {},
   "outputs": [],
   "source": [
    "tuned_rf = RandomForestClassifier(criterion=  'entropy', max_depth=12, random_state = 30)\n",
    "cv_tuned_rf = cross_val_score(tuned_rf,trans_x,ytr,scoring='roc_auc',\n",
    "    cv=5)"
   ]
  },
  {
   "cell_type": "code",
   "execution_count": 38,
   "id": "664fdc7f",
   "metadata": {},
   "outputs": [],
   "source": [
    "bias_tuned_rf = np.mean(cv_tuned_rf)\n",
    "var_tuned_rf = np.std(cv_tuned_rf)"
   ]
  },
  {
   "cell_type": "code",
   "execution_count": 39,
   "id": "5c6ee6e0",
   "metadata": {},
   "outputs": [
    {
     "data": {
      "text/plain": [
       "(0.5829238586616635, 0.036919990040177104)"
      ]
     },
     "execution_count": 39,
     "metadata": {},
     "output_type": "execute_result"
    }
   ],
   "source": [
    "bias_tuned_rf, var_tuned_rf"
   ]
  },
  {
   "cell_type": "code",
   "execution_count": 40,
   "id": "b49f67e4",
   "metadata": {},
   "outputs": [],
   "source": [
    "# Fitting Tuned Random Forest to the Data"
   ]
  },
  {
   "cell_type": "code",
   "execution_count": 41,
   "id": "0a7db5f1",
   "metadata": {},
   "outputs": [
    {
     "data": {
      "text/plain": [
       "RandomForestClassifier(criterion='entropy', max_depth=12, random_state=30)"
      ]
     },
     "execution_count": 41,
     "metadata": {},
     "output_type": "execute_result"
    }
   ],
   "source": [
    "tuned_rf.fit(trans_x,ytr)"
   ]
  },
  {
   "cell_type": "code",
   "execution_count": 42,
   "id": "cdc6ae36",
   "metadata": {},
   "outputs": [],
   "source": [
    "pred = tuned_rf.predict(te_x)"
   ]
  },
  {
   "cell_type": "code",
   "execution_count": 43,
   "id": "7db168ee",
   "metadata": {},
   "outputs": [
    {
     "data": {
      "text/plain": [
       "array([[27, 27],\n",
       "       [20, 26]], dtype=int64)"
      ]
     },
     "execution_count": 43,
     "metadata": {},
     "output_type": "execute_result"
    }
   ],
   "source": [
    "confusion_matrix(yte,pred)"
   ]
  },
  {
   "cell_type": "code",
   "execution_count": 44,
   "id": "818c5c6b",
   "metadata": {},
   "outputs": [
    {
     "data": {
      "text/plain": [
       "0.49056603773584906"
      ]
     },
     "execution_count": 44,
     "metadata": {},
     "output_type": "execute_result"
    }
   ],
   "source": [
    "precision_score(yte,pred)"
   ]
  },
  {
   "cell_type": "code",
   "execution_count": 45,
   "id": "29a60348",
   "metadata": {},
   "outputs": [
    {
     "data": {
      "text/plain": [
       "0.5652173913043478"
      ]
     },
     "execution_count": 45,
     "metadata": {},
     "output_type": "execute_result"
    }
   ],
   "source": [
    "recall_score(yte,pred)"
   ]
  },
  {
   "cell_type": "code",
   "execution_count": 46,
   "id": "b0af0542",
   "metadata": {},
   "outputs": [
    {
     "name": "stdout",
     "output_type": "stream",
     "text": [
      "              precision    recall  f1-score   support\n",
      "\n",
      "           0       0.57      0.50      0.53        54\n",
      "           1       0.49      0.57      0.53        46\n",
      "\n",
      "    accuracy                           0.53       100\n",
      "   macro avg       0.53      0.53      0.53       100\n",
      "weighted avg       0.54      0.53      0.53       100\n",
      "\n"
     ]
    }
   ],
   "source": [
    "print(classification_report(yte,pred))"
   ]
  },
  {
   "cell_type": "code",
   "execution_count": null,
   "id": "1ae339a9",
   "metadata": {},
   "outputs": [],
   "source": [
    "# Applying Prediction on Actual Data"
   ]
  },
  {
   "cell_type": "code",
   "execution_count": 96,
   "id": "15ec390b",
   "metadata": {},
   "outputs": [],
   "source": [
    "min_max = df.describe().loc[['min','max'],:]\n",
    "min_max.drop(['GPA','Joined '],1,inplace = True)\n",
    "selected_df = pd.DataFrame()\n",
    "def Data(x):\n",
    "    for y in min_max.columns:\n",
    "        nums = np.random.randint(min_max[y].loc['min'],min_max[y].loc['max']+1,x)\n",
    "        selected_df[y] = nums\n",
    "    selected_df['GPA'] = np.random.randint(171,400,x)/100\n",
    "    return selected_df"
   ]
  },
  {
   "cell_type": "code",
   "execution_count": 97,
   "id": "e79938ea",
   "metadata": {},
   "outputs": [],
   "source": [
    "df_actual = Data(20)\n",
    "df_actual = z.reindex(columns = ['Degree', 'GPA', 'Experience', 'Job Location ', 'Salary Hike',\n",
    "       'Change in Level'])"
   ]
  },
  {
   "cell_type": "code",
   "execution_count": 99,
   "id": "44f4ed6d",
   "metadata": {},
   "outputs": [],
   "source": [
    "te_cat_x = pd.DataFrame(ohe.transform(np.array(df_actual[['Degree','Job Location ']])).toarray())\n",
    "te_cat_x.columns = ['Deg_1','Deg_2','Deg_3','Loc_1','Loc2']\n",
    "te_cat_x = te_cat_x.join((df_actual[['Change in Level']].reset_index()).drop('index',1))"
   ]
  },
  {
   "cell_type": "code",
   "execution_count": 101,
   "id": "39930d41",
   "metadata": {},
   "outputs": [],
   "source": [
    "te_num_x = pd.DataFrame(sc.transform(df_actual[['GPA','Experience','Salary Hike']]))\n",
    "te_num_x.columns = ['GPA','Experience','Salary Hike']"
   ]
  },
  {
   "cell_type": "code",
   "execution_count": 102,
   "id": "69b532f2",
   "metadata": {},
   "outputs": [],
   "source": [
    "te_x = te_num_x.join(te_cat_x)"
   ]
  },
  {
   "cell_type": "code",
   "execution_count": 104,
   "id": "a82f5adf",
   "metadata": {},
   "outputs": [],
   "source": [
    "pred = tuned_rf.predict(te_x)"
   ]
  },
  {
   "cell_type": "code",
   "execution_count": null,
   "id": "9836240d",
   "metadata": {},
   "outputs": [],
   "source": [
    "# Final Predictions"
   ]
  },
  {
   "cell_type": "code",
   "execution_count": 105,
   "id": "69c47b5f",
   "metadata": {},
   "outputs": [
    {
     "data": {
      "text/plain": [
       "array([0, 0, 1, 1, 0, 1, 0, 1, 0, 0, 0, 0, 1, 1, 1, 0, 0, 1, 0, 1],\n",
       "      dtype=int64)"
      ]
     },
     "execution_count": 105,
     "metadata": {},
     "output_type": "execute_result"
    }
   ],
   "source": [
    "pred"
   ]
  }
 ],
 "metadata": {
  "kernelspec": {
   "display_name": "Python 3",
   "language": "python",
   "name": "python3"
  },
  "language_info": {
   "codemirror_mode": {
    "name": "ipython",
    "version": 3
   },
   "file_extension": ".py",
   "mimetype": "text/x-python",
   "name": "python",
   "nbconvert_exporter": "python",
   "pygments_lexer": "ipython3",
   "version": "3.8.8"
  }
 },
 "nbformat": 4,
 "nbformat_minor": 5
}
